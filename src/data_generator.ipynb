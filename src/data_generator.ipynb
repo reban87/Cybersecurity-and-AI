{
 "cells": [
  {
   "cell_type": "code",
   "execution_count": 1,
   "metadata": {},
   "outputs": [],
   "source": [
    "# Generate synthetic dataset for network traffic\n",
    "# !pip install pandas\n",
    "# !pip install numpy\n",
    "import pandas as pd\n",
    "import numpy as np\n",
    "from datetime import datetime, timedelta"
   ]
  },
  {
   "cell_type": "code",
   "execution_count": 2,
   "metadata": {},
   "outputs": [],
   "source": [
    "def generate_normal_traffic():\n",
    "    \"\"\"Generate normal network traffic data\"\"\"\n",
    "    return {\n",
    "        'timestamp': datetime.now() - timedelta(seconds=np.random.randint(0, 86400)),\n",
    "        'source_ip': f\"192.168.{np.random.randint(1, 255)}.{np.random.randint(1, 255)}\",\n",
    "        'dest_ip': f\"10.0.{np.random.randint(1, 255)}.{np.random.randint(1, 255)}\",\n",
    "        'protocol': np.random.choice(['TCP', 'UDP', 'ICMP'], p=[0.7, 0.2, 0.1]),\n",
    "        'port': np.random.randint(1, 65535),\n",
    "        'bytes': np.random.normal(1500, 500),\n",
    "        'packets': np.random.randint(1, 100),\n",
    "        'duration': np.random.exponential(30),\n",
    "        'is_attack': 0\n",
    "    }\n"
   ]
  },
  {
   "cell_type": "code",
   "execution_count": 3,
   "metadata": {},
   "outputs": [],
   "source": [
    "def generate_attack_traffic():\n",
    "    \"\"\"Generate attack network traffic data\"\"\"\n",
    "    attack_types = {\n",
    "        'ddos': {\n",
    "            'bytes': np.random.normal(15000, 1000),\n",
    "            'packets': np.random.randint(500, 1000),\n",
    "            'duration': np.random.exponential(5)\n",
    "        },\n",
    "        'port_scan': {\n",
    "            'bytes': np.random.normal(100, 20),\n",
    "            'packets': np.random.randint(1, 3),\n",
    "            'duration': np.random.exponential(0.1)\n",
    "        },\n",
    "        'brute_force': {\n",
    "            'bytes': np.random.normal(500, 100),\n",
    "            'packets': np.random.randint(10, 50),\n",
    "            'duration': np.random.exponential(1)\n",
    "        }\n",
    "    }\n",
    "    \n",
    "    attack_type = np.random.choice(list(attack_types.keys()))\n",
    "    attack_params = attack_types[attack_type]\n",
    "    \n",
    "    return {\n",
    "        'timestamp': datetime.now() - timedelta(seconds=np.random.randint(0, 86400)),\n",
    "        'source_ip': f\"45.{np.random.randint(1, 255)}.{np.random.randint(1, 255)}.{np.random.randint(1, 255)}\",\n",
    "        'dest_ip': f\"10.0.{np.random.randint(1, 255)}.{np.random.randint(1, 255)}\",\n",
    "        'protocol': np.random.choice(['TCP', 'UDP', 'ICMP'], p=[0.8, 0.1, 0.1]),\n",
    "        'port': np.random.randint(1, 65535),\n",
    "        'bytes': attack_params['bytes'],\n",
    "        'packets': attack_params['packets'],\n",
    "        'duration': attack_params['duration'],\n",
    "        'is_attack': 1,\n",
    "        'attack_type': attack_type\n",
    "    }\n"
   ]
  },
  {
   "cell_type": "code",
   "execution_count": 4,
   "metadata": {},
   "outputs": [],
   "source": [
    "def generate_dataset(normal_samples=10000, attack_samples=1000):\n",
    "    normal_traffic = [generate_normal_traffic() for _ in range(normal_samples)]\n",
    "    attack_traffic = [generate_attack_traffic() for _ in range(attack_samples)]\n",
    "    \n",
    "    all_traffic = normal_traffic + attack_traffic\n",
    "    df = pd.DataFrame(all_traffic)\n",
    "    return df\n"
   ]
  },
  {
   "cell_type": "code",
   "execution_count": 9,
   "metadata": {},
   "outputs": [],
   "source": [
    "# Save dataset\n",
    "training_data = generate_dataset()\n",
    "training_data.to_csv('dataset/network_traffic_training.csv', index=False)"
   ]
  },
  {
   "cell_type": "code",
   "execution_count": 11,
   "metadata": {},
   "outputs": [],
   "source": [
    "# Generate smaller test dataset\n",
    "test_data = generate_dataset(normal_samples=1000, attack_samples=100)\n",
    "test_data.to_csv('dataset/network_traffic_test.csv', index=False)"
   ]
  }
 ],
 "metadata": {
  "kernelspec": {
   "display_name": "venv",
   "language": "python",
   "name": "python3"
  },
  "language_info": {
   "codemirror_mode": {
    "name": "ipython",
    "version": 3
   },
   "file_extension": ".py",
   "mimetype": "text/x-python",
   "name": "python",
   "nbconvert_exporter": "python",
   "pygments_lexer": "ipython3",
   "version": "3.12.3"
  }
 },
 "nbformat": 4,
 "nbformat_minor": 2
}
